{
 "cells": [
  {
   "cell_type": "code",
   "execution_count": 1,
   "metadata": {},
   "outputs": [],
   "source": [
    "import pymysql\n",
    "from sqlalchemy import create_engine, text\n",
    "from pandas import read_sql_query\n",
    "from dateutil.relativedelta import relativedelta\n",
    "\n",
    "\n",
    "from pydantic import (\n",
    "    BaseSettings,\n",
    "    Field\n",
    ")\n",
    "\n",
    "class Settings(BaseSettings):\n",
    "    project_title: str = \"Caris DATA API SERVICE\"\n",
    "    project_description: str = \"REST API service for the datim reports and other relevant data analysis reports\"\n",
    "    project_version: str = \"v0.0.1\"\n",
    "    project_docs_url: str = \"/\"\n",
    "    \n",
    "    DATIM_DESCRIPTION: str = \"Get the datim data for dreams indicator - AGYW_PREV\"\n",
    "    DATIM_SUMMARY: str = \"Get the datim data for dreams indicator - AGYW_PREV\"\n",
    "\n",
    "    DISTRICT_DESCRIPTION: str = \"Get the district data for dreams indicator - AGYW_PREV\"\n",
    "    DISTRICT_SUMMARY: str = \"Get the district data for dreams indicator - AGYW_PREV\"\n",
    "    \n",
    "    \n",
    "    mysql_username: str = Field(...,env='MYSQL_USERNAME')\n",
    "    mysql_password: str = Field(...,env='MYSQL_PASSWORD')\n",
    "    mysql_host: str = Field(...,env='MYSQL_HOST')\n",
    "    mysql_port: int = Field(...,env='MYSQL_PORT')\n",
    "    mysql_database: str = Field(...,env='MYSQL_DATABASE')\n",
    "    \n",
    "    commcare_username: str = Field(...,env='COMMCARE_USERNAME')\n",
    "    commcare_password: str = Field(...,env='COMMCARE_PASSWORD')\n",
    "    \n",
    "    class Config:\n",
    "        env_prefix = \"\"\n",
    "        case_sensitive = False\n",
    "        env_file = \".env\"\n",
    "        env_file_encoding = \"utf-8\"\n",
    "        \n",
    "        \n",
    "        \n",
    "settings = Settings()"
   ]
  },
  {
   "cell_type": "code",
   "execution_count": 2,
   "metadata": {},
   "outputs": [],
   "source": [
    "EID = '''\n",
    "select Patient_code,Code_mere,if(Code_mere in (select patient_code from patient),'yes','no') as Liaison_mere,left(patient_code,8) as Site_or_lab_code, hospital,Office, if(Network is not null,Network,'Autres') as Network, date_of_birth, gender, start_date as arv_start, if(Office = 'CAP', 'HUJ', lab) as lab, date_blood_taken, date_caris_received_sample, date_lab_received_sample, Result,\n",
    "if(timestampdiff(day,date_of_birth,date_blood_taken)<=61,if(timestampdiff(day,date_of_birth,date_blood_taken)>=0,'0_2',''),if(timestampdiff(day,date_of_birth,date_blood_taken)<=365,if(timestampdiff(day,date_of_birth,date_blood_taken)>61,'2_12',''),'')) as tranche_age\n",
    ",if(arv is not null,'yes','') as on_arv, timestampdiff(day,date_lab_received_sample,now()) as total_jours_Labo, timestampdiff(day,date_blood_taken,pcr_result_date) as from_specimen_to_result, timestampdiff(day,date_blood_taken,date_caris_received_sample) as from_specimen_to_caris,\n",
    "timestampdiff(day,date_caris_received_sample,date_lab_received_sample) as from_caris_to_lab, timestampdiff(day,date_lab_received_sample,pcr_result_date) as from_lab_to_result,\n",
    "\n",
    "if(!(pcr_result_date is null or pcr_result_date ='0000-00-00') and !(date_lab_received_sample is null or date_lab_received_sample ='0000-00-00'),timestampdiff(day,date_lab_received_sample,pcr_result_date) , IF(!(date_lab_received_sample is null or date_lab_received_sample ='0000-00-00'), timestampdiff(day,date_lab_received_sample,now()),\"not_in_lab\")) as days_in_lab,\n",
    "case \n",
    "\twhen if(!(pcr_result_date is null or pcr_result_date ='0000-00-00') and !(date_lab_received_sample is null or date_lab_received_sample ='0000-00-00'),timestampdiff(day,date_lab_received_sample,pcr_result_date) , IF(!(date_lab_received_sample is null or date_lab_received_sample ='0000-00-00'), timestampdiff(day,date_lab_received_sample,now()),\"not_in_lab\"))>15 then 'greater than 15'\n",
    "    when if(!(pcr_result_date is null or pcr_result_date ='0000-00-00') and !(date_lab_received_sample is null or date_lab_received_sample ='0000-00-00'),timestampdiff(day,date_lab_received_sample,pcr_result_date) , IF(!(date_lab_received_sample is null or date_lab_received_sample ='0000-00-00'), timestampdiff(day,date_lab_received_sample,now()),\"not_in_lab\"))<=15 then 'less or equal to 15'\n",
    "    else'not in lab' end as Nbres_jours_Labo\n",
    "   , \n",
    "   #timestampdiff(day,date_caris_received_sample,now()) as Total_jours_Caris,\n",
    "   \n",
    "if(!(date_lab_received_sample is null or date_lab_received_sample ='0000-00-00'),timestampdiff(day,date_caris_received_sample,date_lab_received_sample),timestampdiff(day,date_caris_received_sample,now())) as days_between_caris_lab,\n",
    "case \n",
    "\twhen if(!(date_lab_received_sample is null or date_lab_received_sample ='0000-00-00') ,timestampdiff(day,date_caris_received_sample,date_lab_received_sample),timestampdiff(day,date_caris_received_sample,now())) >5 then 'greater than 5'\n",
    "    when if(!(date_lab_received_sample is null or date_lab_received_sample ='0000-00-00'),timestampdiff(day,date_caris_received_sample,date_lab_received_sample),timestampdiff(day,date_caris_received_sample,now())) <=5 then 'less or equal to 5'\n",
    " end as Nbres_jours_Caris,\n",
    "\n",
    "if(pcr_result=1,if(patient_info is not null,if(is_abandoned=0 and is_dead=0,'no','yes'),''),'') as pos_dead_abandon\n",
    ",death_date\n",
    ",abandoned_date\n",
    ",pcr_result_date,\n",
    "case \n",
    "    when month(date_blood_taken) between 10 and 12 then 'Q1'\n",
    "    when month(date_blood_taken) between 1 and 3 then 'Q2'\n",
    "    when month(date_blood_taken) between 4 and 6 then 'Q3'\n",
    "    else 'Q4'\n",
    " End as Quarter,  -- month(date_blood_taken)  as month_blood_taken,\n",
    " #year(date_blood_taken) as year_test,\n",
    "if( month(date_blood_taken) between 10 and 12 ,year(date_blood_taken)+1,year(date_blood_taken) ) as Year\n",
    "from(\n",
    "select patient_code,tme.id_patient as id_in_mere ,concat(tme.mother_city_code,'/',tme.mother_hospital_code,'/',tme.mother_code) as Code_mere, date_of_birth, tracking_infant.id_patient as patient_info, date_blood_taken, pcr_result,arv.id_patient as arv, is_dead, is_abandoned, death_date, abandoned_date, pcr_result_date, date_caris_received_sample, date_lab_received_sample,\n",
    "lookup_testing_specimen_result.name as _result, if(lookup_testing_specimen_result.name=\"\", 'En cours',lookup_testing_specimen_result.name) as Result,lookup_hospital.name as hospital,lookup_network.name as Network,lookup_hospital.office as Office, lookup_testing_gender.name as gender, tracking_regime.start_date, lookup_lab.name as lab from(\n",
    "    select * from testing_specimen t1 where timestampdiff(day,date_of_birth,date_blood_taken)<=365 and date_blood_taken between '2014-10-01' and '2030-12-31'\n",
    "    and date_blood_taken=(select min(date_blood_taken) from testing_specimen t2 where t1.id_patient=t2.id_patient)\n",
    ")test_1\n",
    "left join patient pa on pa.id=test_1.id_patient\n",
    "left join testing_mereenfant tme on pa.id= tme.id_patient\n",
    "left join\n",
    "(select * from(\n",
    "    select id_patient from tracking_followup where on_arv=1\n",
    "    union\n",
    "    select id_patient from tracking_regime where category='regime_infant_treatment'\n",
    "    )o\n",
    ")arv on arv.id_patient=test_1.id_patient\n",
    "left join tracking_infant on tracking_infant.id_patient=test_1.id_patient\n",
    "left join lookup_testing_specimen_result on pcr_result=lookup_testing_specimen_result.id\n",
    "left join lookup_hospital on concat(lookup_hospital.city_code,'/',lookup_hospital.hospital_code)=left(patient_code,8)\n",
    "left join tracking_regime on tracking_regime.id_patient=test_1.id_patient\n",
    "left join lookup_testing_gender on lookup_testing_gender.id=gender\n",
    "left join lookup_lab on lookup_hospital.id_lab=lookup_lab.id\n",
    "left join lookup_network on lookup_hospital.network=lookup_network.id\n",
    "where timestampdiff(day,test_1.date_of_birth,test_1.date_blood_taken)<=365 and test_1.date_blood_taken between '2014-10-01' and '2030-12-31' and linked_to_id_patient=0\n",
    "group by test_1.id_patient) final\n",
    "'''\n",
    "\n",
    "engine = create_engine(\n",
    "    f\"mysql+pymysql://{settings.mysql_username}:{settings.mysql_password}@{settings.mysql_host}/{settings.mysql_database}\")\n",
    "\n",
    "\n",
    "eid = read_sql_query(text(EID), engine.connect(), parse_dates=True)\n",
    "\n",
    "# close the pool of connection\n",
    "engine.dispose()"
   ]
  },
  {
   "cell_type": "code",
   "execution_count": 3,
   "metadata": {},
   "outputs": [
    {
     "data": {
      "text/plain": [
       "Index(['Patient_code', 'Code_mere', 'Liaison_mere', 'Site_or_lab_code',\n",
       "       'hospital', 'Office', 'Network', 'date_of_birth', 'gender', 'arv_start',\n",
       "       'lab', 'date_blood_taken', 'date_caris_received_sample',\n",
       "       'date_lab_received_sample', 'Result', 'tranche_age', 'on_arv',\n",
       "       'total_jours_Labo', 'from_specimen_to_result', 'from_specimen_to_caris',\n",
       "       'from_caris_to_lab', 'from_lab_to_result', 'days_in_lab',\n",
       "       'Nbres_jours_Labo', 'days_between_caris_lab', 'Nbres_jours_Caris',\n",
       "       'pos_dead_abandon', 'death_date', 'abandoned_date', 'pcr_result_date',\n",
       "       'Quarter', 'Year'],\n",
       "      dtype='object')"
      ]
     },
     "execution_count": 3,
     "metadata": {},
     "output_type": "execute_result"
    }
   ],
   "source": [
    "eid.columns"
   ]
  },
  {
   "cell_type": "code",
   "execution_count": 4,
   "metadata": {},
   "outputs": [],
   "source": [
    "eid.rename(columns = {'Site_or_lab_code' : 'CODE LABO'}, inplace = True)\n"
   ]
  },
  {
   "cell_type": "code",
   "execution_count": 5,
   "metadata": {},
   "outputs": [
    {
     "data": {
      "text/plain": [
       "array(['ADN VIH-1 Non-Detècté', 'En cours', 'ADN VIH-1 Detècté',\n",
       "       'Autre DBS'], dtype=object)"
      ]
     },
     "execution_count": 5,
     "metadata": {},
     "output_type": "execute_result"
    }
   ],
   "source": [
    "#eid.tranche_age.unique()\n",
    "eid.Result.unique()"
   ]
  },
  {
   "cell_type": "code",
   "execution_count": 6,
   "metadata": {},
   "outputs": [],
   "source": [
    "eid['calculated_ageDiff'] = eid.apply(lambda eid: relativedelta(eid.date_blood_taken, eid.date_of_birth).months,axis=1)\n",
    "eid['calculated_ageDiff'] = eid['calculated_ageDiff'].abs()"
   ]
  },
  {
   "cell_type": "code",
   "execution_count": 7,
   "metadata": {},
   "outputs": [
    {
     "data": {
      "text/plain": [
       "array([ 1,  6, 10,  0,  8,  7,  5,  9,  2, 11,  4,  3])"
      ]
     },
     "execution_count": 7,
     "metadata": {},
     "output_type": "execute_result"
    }
   ],
   "source": [
    "eid.calculated_ageDiff.unique()"
   ]
  },
  {
   "cell_type": "code",
   "execution_count": 8,
   "metadata": {},
   "outputs": [],
   "source": [
    "eid.loc[(eid.calculated_ageDiff>=0) & (eid.calculated_ageDiff<=2),\"tranche_age\"] = \"0_2\"\n",
    "eid.loc[(eid.calculated_ageDiff>2) & (eid.calculated_ageDiff<=12),\"tranche_age\"] = \"2_12\""
   ]
  },
  {
   "cell_type": "code",
   "execution_count": 9,
   "metadata": {},
   "outputs": [
    {
     "data": {
      "text/plain": [
       "array(['0_2', '2_12'], dtype=object)"
      ]
     },
     "execution_count": 9,
     "metadata": {},
     "output_type": "execute_result"
    }
   ],
   "source": [
    "eid.tranche_age.unique()"
   ]
  },
  {
   "cell_type": "code",
   "execution_count": 10,
   "metadata": {},
   "outputs": [],
   "source": [
    "#----------------------------------------------------------------------------------------------------------------------\n",
    "\n",
    "period_1 = 'Q1'\n",
    "year = 2023\n",
    "start_date = '1er Octobre'\n",
    "\n"
   ]
  },
  {
   "cell_type": "code",
   "execution_count": 16,
   "metadata": {},
   "outputs": [
    {
     "data": {
      "text/plain": [
       "[2016, 2015, 2017, 2018, 2021, 2019, 2022, 2020, 2023]"
      ]
     },
     "execution_count": 16,
     "metadata": {},
     "output_type": "execute_result"
    }
   ],
   "source": [
    "eid.Year.unique().tolist()\n",
    "#eid.Quarter.unique().tolist()\n",
    "#eid.Network.unique().tolist()"
   ]
  },
  {
   "cell_type": "code",
   "execution_count": 61,
   "metadata": {},
   "outputs": [
    {
     "data": {
      "text/html": [
       "<div>\n",
       "<style scoped>\n",
       "    .dataframe tbody tr th:only-of-type {\n",
       "        vertical-align: middle;\n",
       "    }\n",
       "\n",
       "    .dataframe tbody tr th {\n",
       "        vertical-align: top;\n",
       "    }\n",
       "\n",
       "    .dataframe thead th {\n",
       "        text-align: right;\n",
       "    }\n",
       "</style>\n",
       "<table border=\"1\" class=\"dataframe\">\n",
       "  <thead>\n",
       "    <tr style=\"text-align: right;\">\n",
       "      <th></th>\n",
       "      <th>tranche_age</th>\n",
       "      <th>Spécimens prélevés</th>\n",
       "      <th>% Spécimens prélevés</th>\n",
       "      <th>Enfants positifs</th>\n",
       "      <th>Sous ARV</th>\n",
       "      <th>Sans résultat</th>\n",
       "      <th>% Sans résultat</th>\n",
       "    </tr>\n",
       "  </thead>\n",
       "  <tbody>\n",
       "    <tr>\n",
       "      <th>0</th>\n",
       "      <td>0_2</td>\n",
       "      <td>20873</td>\n",
       "      <td>79.0</td>\n",
       "      <td>658</td>\n",
       "      <td>537</td>\n",
       "      <td>854</td>\n",
       "      <td>78.0</td>\n",
       "    </tr>\n",
       "    <tr>\n",
       "      <th>1</th>\n",
       "      <td>2_12</td>\n",
       "      <td>5711</td>\n",
       "      <td>21.0</td>\n",
       "      <td>647</td>\n",
       "      <td>453</td>\n",
       "      <td>243</td>\n",
       "      <td>22.0</td>\n",
       "    </tr>\n",
       "    <tr>\n",
       "      <th>2</th>\n",
       "      <td>Total</td>\n",
       "      <td>26584</td>\n",
       "      <td>100.0</td>\n",
       "      <td>1305</td>\n",
       "      <td>990</td>\n",
       "      <td>1097</td>\n",
       "      <td>100.0</td>\n",
       "    </tr>\n",
       "  </tbody>\n",
       "</table>\n",
       "</div>"
      ],
      "text/plain": [
       "  tranche_age  Spécimens prélevés  % Spécimens prélevés  Enfants positifs  \\\n",
       "0         0_2               20873                  79.0               658   \n",
       "1        2_12                5711                  21.0               647   \n",
       "2       Total               26584                 100.0              1305   \n",
       "\n",
       "   Sous ARV  Sans résultat  % Sans résultat  \n",
       "0       537            854             78.0  \n",
       "1       453            243             22.0  \n",
       "2       990           1097            100.0  "
      ]
     },
     "execution_count": 61,
     "metadata": {},
     "output_type": "execute_result"
    }
   ],
   "source": [
    "def pmtctEID_heiPos_ON_ARV(eid, year=None):\n",
    "    if year == None:\n",
    "        eid_Qi = eid\n",
    "    else:\n",
    "        eid_Qi = eid[(eid['Year'] == year)]\n",
    "\n",
    "\n",
    "    #Nombre de spécimens par tranche d'âge\n",
    "    PT = eid_Qi.pivot_table(values='Patient_code', index = 'tranche_age', aggfunc = len, fill_value = 0, margins = True, margins_name ='Total')\n",
    "    PT.rename(columns = {'Patient_code' : 'Spécimens prélevés'}, inplace = True)\n",
    "\n",
    "    #Pourcentage\n",
    "    PTp = round(PT.div(PT.iloc[-1,:], axis = 1), 2)*100\n",
    "    PTp.rename(columns = {'Spécimens prélevés' : '% Spécimens prélevés'}, inplace = True)\n",
    "\n",
    "    # Nombre de positif\n",
    "    eid_positive = eid_Qi[eid_Qi['Result'] == 'ADN VIH-1 Detècté']\n",
    "    PT2 = eid_positive.pivot_table(values = 'Patient_code', index = 'tranche_age', aggfunc = len, margins = True, margins_name ='Total')\n",
    "    PT2.rename(columns = {'Patient_code' : 'Enfants positifs'}, inplace = True)\n",
    "\n",
    "    #Nombre sous ARV\n",
    "    eid_on_arv = eid_positive[eid_positive['on_arv'] == 'yes']\n",
    "    PT3 = eid_on_arv.pivot_table(values = 'Patient_code', index = 'tranche_age', aggfunc = len, margins = True, margins_name = 'Total')\n",
    "    PT3.rename(columns = {'Patient_code' : 'Sous ARV'}, inplace = True)\n",
    "\n",
    "    #Enfants sans résultat\n",
    "    eid_no_result = eid_Qi[(eid_Qi['Result'] != 'ADN VIH-1 Non-Detècté') & (eid_Qi['Result'] != 'ADN VIH-1 Detècté')]\n",
    "    PT4 = eid_no_result.pivot_table(values = 'Patient_code', index = 'tranche_age', aggfunc = len, margins = True, margins_name = 'Total')\n",
    "    PT4.rename(columns = {'Patient_code' : 'Sans résultat'}, inplace =True)\n",
    "    \n",
    "    PT4p = round(PT4.div(PT4.iloc[-1,:], axis = 1), 2)*100\n",
    "    PT4p.rename(columns = {'Sans résultat' : '% Sans résultat'}, inplace = True)\n",
    "\n",
    "    #Concaténation des données et tableau final\n",
    "    #EID = PT.merge(PTp, on = 'tranche_age', how = 'left').merge(PT2, on = 'tranche_age', how = 'left').merge(PT3, on = 'tranche_age', how = 'left').merge(PT4, on = 'tranche_age', how = 'left')\n",
    "    EID = PT.merge(PTp, on = 'tranche_age', how = 'left').merge(PT2, on = 'tranche_age', how = 'left').merge(PT3, on = 'tranche_age', how = 'left').merge(PT4, on = 'tranche_age', how = 'left').merge(PT4p, on = 'tranche_age', how = 'left')\n",
    "    EID.reset_index(inplace = True)\n",
    "    EID = EID.fillna(0)\n",
    "    return EID\n",
    "\n",
    "\n",
    "\n",
    "#pmtctEID_heiPos_ON_ARV(eid,2023)\n",
    "pmtctEID_heiPos_ON_ARV(eid)"
   ]
  },
  {
   "cell_type": "code",
   "execution_count": 13,
   "metadata": {},
   "outputs": [
    {
     "data": {
      "text/plain": [
       "[{'tranche_age': '0_2',\n",
       "  'Spécimens prélevés': 20873,\n",
       "  '% Spécimens prélevés': 79.0,\n",
       "  'Enfants positifs': 658,\n",
       "  'Sous ARV': 537,\n",
       "  'Sans résultat': 854,\n",
       "  '% Sans résultat': 78.0},\n",
       " {'tranche_age': '2_12',\n",
       "  'Spécimens prélevés': 5711,\n",
       "  '% Spécimens prélevés': 21.0,\n",
       "  'Enfants positifs': 647,\n",
       "  'Sous ARV': 453,\n",
       "  'Sans résultat': 243,\n",
       "  '% Sans résultat': 22.0},\n",
       " {'tranche_age': 'Total',\n",
       "  'Spécimens prélevés': 26584,\n",
       "  '% Spécimens prélevés': 100.0,\n",
       "  'Enfants positifs': 1305,\n",
       "  'Sous ARV': 990,\n",
       "  'Sans résultat': 1097,\n",
       "  '% Sans résultat': 100.0}]"
      ]
     },
     "execution_count": 13,
     "metadata": {},
     "output_type": "execute_result"
    }
   ],
   "source": [
    "table = pmtctEID_heiPos_ON_ARV(eid)\n",
    "\n",
    "table.to_dict('records')\n"
   ]
  },
  {
   "cell_type": "code",
   "execution_count": 74,
   "metadata": {},
   "outputs": [],
   "source": [
    "\n",
    "class Eid():\n",
    "    \n",
    "    @classmethod\n",
    "    def get_filter_title(cls,eid):\n",
    "        year = eid.Year.unique().tolist()\n",
    "        quarter = eid.Quarter.unique().tolist()\n",
    "        network = eid.Network.unique().tolist()\n",
    "        return {\n",
    "            \"year_title\": year,\n",
    "            \"quarter_title\": quarter,\n",
    "            \"network_title\": network\n",
    "        }\n",
    "    \n",
    "    @classmethod\n",
    "    def pmtctEID_heiPos_ON_ARV(cls,eid, year=None,quarter=None, network=None):\n",
    "        if (year is None and quarter is not None and network is not None):\n",
    "            eid_Qi = eid[(eid.Quarter==quarter)&(eid.Network==network)]\n",
    "        elif(quarter is None and year is not None and network is not None):\n",
    "            eid_Qi = eid[(eid.Year==year)&(eid.Network==network)]\n",
    "        elif(network is None and year is not None and quarter is not None):\n",
    "            eid_Qi = eid[(eid.Year==year)&(eid.Quarter==quarter)]\n",
    "        elif(year is not None and quarter is None and network is None):\n",
    "            eid_Qi = eid[(eid.Year==year)]\n",
    "        elif(quarter is not None and year is None and network is None):\n",
    "            eid_Qi = eid[(eid.Quarter==quarter)]\n",
    "        elif(network is not None and year is None and quarter is None):\n",
    "            eid_Qi = eid[(eid.Network==network)]\n",
    "        elif(year is not None and quarter is not None and network is not None):\n",
    "            eid_Qi = eid[(eid.Year==year)&(eid.Quarter==quarter)&(eid.Network==network)]\n",
    "        else:\n",
    "            eid_Qi = eid\n",
    "        \n",
    "        #Nombre de spécimens par tranche d'âge\n",
    "        PT = eid_Qi.pivot_table(values='Patient_code', index = 'tranche_age', aggfunc = len, fill_value = 0, margins = True, margins_name ='Total')\n",
    "        PT.rename(columns = {'Patient_code' : 'Spécimens prélevés'}, inplace = True)\n",
    "\n",
    "        #Pourcentage\n",
    "        PTp = round(PT.div(PT.iloc[-1,:], axis = 1), 2)*100\n",
    "        PTp.rename(columns = {'Spécimens prélevés' : '% Spécimens prélevés'}, inplace = True)\n",
    "\n",
    "        # Nombre de positif\n",
    "        eid_positive = eid_Qi[eid_Qi['Result'] == 'ADN VIH-1 Detècté']\n",
    "        PT2 = eid_positive.pivot_table(values = 'Patient_code', index = 'tranche_age', aggfunc = len, margins = True, margins_name ='Total')\n",
    "        PT2.rename(columns = {'Patient_code' : 'Enfants positifs'}, inplace = True)\n",
    "\n",
    "        #Nombre sous ARV\n",
    "        eid_on_arv = eid_positive[eid_positive['on_arv'] == 'yes']\n",
    "        PT3 = eid_on_arv.pivot_table(values = 'Patient_code', index = 'tranche_age', aggfunc = len, margins = True, margins_name = 'Total')\n",
    "        PT3.rename(columns = {'Patient_code' : 'Sous ARV'}, inplace = True)\n",
    "\n",
    "        #Enfants sans résultat\n",
    "        eid_no_result = eid_Qi[(eid_Qi['Result'] != 'ADN VIH-1 Non-Detècté') & (eid_Qi['Result'] != 'ADN VIH-1 Detècté')]\n",
    "        PT4 = eid_no_result.pivot_table(values = 'Patient_code', index = 'tranche_age', aggfunc = len, margins = True, margins_name = 'Total')\n",
    "        PT4.rename(columns = {'Patient_code' : 'Sans résultat'}, inplace =True)\n",
    "        \n",
    "        PT4p = round(PT4.div(PT4.iloc[-1,:], axis = 1), 2)*100\n",
    "        PT4p.rename(columns = {'Sans résultat' : '% Sans résultat'}, inplace = True)\n",
    "\n",
    "        #Concaténation des données et tableau final\n",
    "        #EID = PT.merge(PTp, on = 'tranche_age', how = 'left').merge(PT2, on = 'tranche_age', how = 'left').merge(PT3, on = 'tranche_age', how = 'left').merge(PT4, on = 'tranche_age', how = 'left')\n",
    "        EID = PT.merge(PTp, on = 'tranche_age', how = 'left').merge(PT2, on = 'tranche_age', how = 'left').merge(PT3, on = 'tranche_age', how = 'left').merge(PT4, on = 'tranche_age', how = 'left').merge(PT4p, on = 'tranche_age', how = 'left')\n",
    "        EID.reset_index(inplace = True)\n",
    "        EID = EID.fillna(0)\n",
    "        return EID \n",
    "\n"
   ]
  },
  {
   "cell_type": "code",
   "execution_count": 91,
   "metadata": {},
   "outputs": [
    {
     "data": {
      "text/html": [
       "<div>\n",
       "<style scoped>\n",
       "    .dataframe tbody tr th:only-of-type {\n",
       "        vertical-align: middle;\n",
       "    }\n",
       "\n",
       "    .dataframe tbody tr th {\n",
       "        vertical-align: top;\n",
       "    }\n",
       "\n",
       "    .dataframe thead th {\n",
       "        text-align: right;\n",
       "    }\n",
       "</style>\n",
       "<table border=\"1\" class=\"dataframe\">\n",
       "  <thead>\n",
       "    <tr style=\"text-align: right;\">\n",
       "      <th></th>\n",
       "      <th>tranche_age</th>\n",
       "      <th>Spécimens prélevés</th>\n",
       "      <th>% Spécimens prélevés</th>\n",
       "      <th>Enfants positifs</th>\n",
       "      <th>Sous ARV</th>\n",
       "      <th>Sans résultat</th>\n",
       "      <th>% Sans résultat</th>\n",
       "    </tr>\n",
       "  </thead>\n",
       "  <tbody>\n",
       "    <tr>\n",
       "      <th>0</th>\n",
       "      <td>0_2</td>\n",
       "      <td>60</td>\n",
       "      <td>90.0</td>\n",
       "      <td>0.0</td>\n",
       "      <td>0.0</td>\n",
       "      <td>44</td>\n",
       "      <td>92.0</td>\n",
       "    </tr>\n",
       "    <tr>\n",
       "      <th>1</th>\n",
       "      <td>2_12</td>\n",
       "      <td>7</td>\n",
       "      <td>10.0</td>\n",
       "      <td>0.0</td>\n",
       "      <td>0.0</td>\n",
       "      <td>4</td>\n",
       "      <td>8.0</td>\n",
       "    </tr>\n",
       "    <tr>\n",
       "      <th>2</th>\n",
       "      <td>Total</td>\n",
       "      <td>67</td>\n",
       "      <td>100.0</td>\n",
       "      <td>0.0</td>\n",
       "      <td>0.0</td>\n",
       "      <td>48</td>\n",
       "      <td>100.0</td>\n",
       "    </tr>\n",
       "  </tbody>\n",
       "</table>\n",
       "</div>"
      ],
      "text/plain": [
       "  tranche_age  Spécimens prélevés  % Spécimens prélevés  Enfants positifs  \\\n",
       "0         0_2                  60                  90.0               0.0   \n",
       "1        2_12                   7                  10.0               0.0   \n",
       "2       Total                  67                 100.0               0.0   \n",
       "\n",
       "   Sous ARV  Sans résultat  % Sans résultat  \n",
       "0       0.0             44             92.0  \n",
       "1       0.0              4              8.0  \n",
       "2       0.0             48            100.0  "
      ]
     },
     "execution_count": 91,
     "metadata": {},
     "output_type": "execute_result"
    }
   ],
   "source": [
    "Eid.pmtctEID_heiPos_ON_ARV(eid,year=2023,quarter='Q2', network= 'CMMB')"
   ]
  },
  {
   "cell_type": "code",
   "execution_count": 83,
   "metadata": {},
   "outputs": [
    {
     "data": {
      "text/plain": [
       "['Santé',\n",
       " 'CMMB',\n",
       " 'UGP',\n",
       " 'PIH',\n",
       " 'GHESKIO',\n",
       " 'Autres',\n",
       " 'Fondation Saint-Luc',\n",
       " 'MSPP',\n",
       " 'CDS',\n",
       " 'FOSREF',\n",
       " 'I-TECH',\n",
       " 'ICAP']"
      ]
     },
     "execution_count": 83,
     "metadata": {},
     "output_type": "execute_result"
    }
   ],
   "source": [
    "Eid.get_filter_title(eid)[\"network_title\"]\n"
   ]
  },
  {
   "cell_type": "code",
   "execution_count": 84,
   "metadata": {},
   "outputs": [
    {
     "data": {
      "text/plain": [
       "['Q1', 'Q3', 'Q4', 'Q2']"
      ]
     },
     "execution_count": 84,
     "metadata": {},
     "output_type": "execute_result"
    }
   ],
   "source": [
    "Eid.get_filter_title(eid)[\"quarter_title\"]\n"
   ]
  },
  {
   "cell_type": "code",
   "execution_count": 85,
   "metadata": {},
   "outputs": [
    {
     "data": {
      "text/plain": [
       "[2016, 2015, 2017, 2018, 2021, 2019, 2022, 2020, 2023]"
      ]
     },
     "execution_count": 85,
     "metadata": {},
     "output_type": "execute_result"
    }
   ],
   "source": [
    "Eid.get_filter_title(eid)[\"year_title\"]"
   ]
  },
  {
   "cell_type": "code",
   "execution_count": null,
   "metadata": {},
   "outputs": [],
   "source": []
  }
 ],
 "metadata": {
  "kernelspec": {
   "display_name": "Python 3",
   "language": "python",
   "name": "python3"
  },
  "language_info": {
   "codemirror_mode": {
    "name": "ipython",
    "version": 3
   },
   "file_extension": ".py",
   "mimetype": "text/x-python",
   "name": "python",
   "nbconvert_exporter": "python",
   "pygments_lexer": "ipython3",
   "version": "3.11.2"
  },
  "orig_nbformat": 4
 },
 "nbformat": 4,
 "nbformat_minor": 2
}
